{
 "cells": [
  {
   "cell_type": "markdown",
   "metadata": {},
   "source": [
    "---\n",
    "layout: post\n",
    "title:  \"Extracting health data from Fitbit (Work in Progress)\"\n",
    "date:   2019-10-20\n",
    "categories: jekyll update\n",
    "---\n",
    "\n",
    "In this post, we'll cover getting data from Fitbit, doing a little cleaning, and storing it as a csv.\n",
    "\n",
    "#### TODO:\n",
    "\n",
    "- Write intro\n",
    "- Write conclusion\n",
    "- Use bolding to make steps a little more legible\n",
    "- Make voice consistent\n",
    "\n",
    "## Step 1: Register your personal app with Fitbit\n",
    "\n",
    "Start by registering your personal app with Fitbit at their [fancy developer portal](https://dev.fitbit.com/apps/new). We're not going to get too nitty gritty here but [this blog post](https://towardsdatascience.com/collect-your-own-fitbit-data-with-python-ff145fa10873) has some very helpful details.\n",
    "\n",
    "Navigate to your newly created app and grab the contents of the \"OAuth 2.0 Client ID\" and \"Client Secret\". In the spirit of not posting creds for all the internet to enjoy, I stored mine locally in a yaml file."
   ]
  },
  {
   "cell_type": "code",
   "execution_count": 1,
   "metadata": {},
   "outputs": [],
   "source": [
    "import yaml\n",
    "with open(\"../creds.yml\", 'r') as stream:\n",
    "    creds = yaml.safe_load(stream)\n",
    "    \n",
    "CLIENT_ID = creds['fitbit']['client_id']\n",
    "CLIENT_SECRET = creds['fitbit']['client_secret']"
   ]
  },
  {
   "cell_type": "markdown",
   "metadata": {},
   "source": [
    "## Step 2: Authorize and connect to Fitbit\n",
    "\n",
    "We'll make heavy use of the `python-fitbit` [package](https://github.com/orcasgit/python-fitbit). You'll also need a specific `requests-oauthlib` and `oauthlib` to avoid errors when you try to authorize."
   ]
  },
  {
   "cell_type": "code",
   "execution_count": 2,
   "metadata": {},
   "outputs": [
    {
     "name": "stdout",
     "output_type": "stream",
     "text": [
      "fatal: destination path 'python-fitbit' already exists and is not an empty directory.\n",
      "\u001b[31mERROR: Invalid requirement: 'python-fitbit/requirements/base.txt'\n",
      "It looks like a path. It does exist. The argument you provided (python-fitbit/requirements/base.txt) appears to be a requirements file. If that is the case, use the '-r' flag to install the packages specified within it.\u001b[0m\n",
      "\u001b[33mWARNING: You are using pip version 19.1.1, however version 19.3.1 is available.\n",
      "You should consider upgrading via the 'pip install --upgrade pip' command.\u001b[0m\n",
      "Requirement already up-to-date: requests-oauthlib==1.1.0 in /Users/luke.armistead/.pyenv/versions/3.6.3/envs/py3/lib/python3.6/site-packages (1.1.0)\n",
      "Requirement already up-to-date: oauthlib==2.1.0 in /Users/luke.armistead/.pyenv/versions/3.6.3/envs/py3/lib/python3.6/site-packages (2.1.0)\n",
      "Requirement already satisfied, skipping upgrade: requests>=2.0.0 in /Users/luke.armistead/.pyenv/versions/3.6.3/envs/py3/lib/python3.6/site-packages (from requests-oauthlib==1.1.0) (2.22.0)\n",
      "Requirement already satisfied, skipping upgrade: idna<2.9,>=2.5 in /Users/luke.armistead/.pyenv/versions/3.6.3/envs/py3/lib/python3.6/site-packages (from requests>=2.0.0->requests-oauthlib==1.1.0) (2.6)\n",
      "Requirement already satisfied, skipping upgrade: urllib3!=1.25.0,!=1.25.1,<1.26,>=1.21.1 in /Users/luke.armistead/.pyenv/versions/3.6.3/envs/py3/lib/python3.6/site-packages (from requests>=2.0.0->requests-oauthlib==1.1.0) (1.22)\n",
      "Requirement already satisfied, skipping upgrade: chardet<3.1.0,>=3.0.2 in /Users/luke.armistead/.pyenv/versions/3.6.3/envs/py3/lib/python3.6/site-packages (from requests>=2.0.0->requests-oauthlib==1.1.0) (3.0.4)\n",
      "Requirement already satisfied, skipping upgrade: certifi>=2017.4.17 in /Users/luke.armistead/.pyenv/versions/3.6.3/envs/py3/lib/python3.6/site-packages (from requests>=2.0.0->requests-oauthlib==1.1.0) (2017.11.5)\n",
      "\u001b[33mWARNING: You are using pip version 19.1.1, however version 19.3.1 is available.\n",
      "You should consider upgrading via the 'pip install --upgrade pip' command.\u001b[0m\n"
     ]
    }
   ],
   "source": [
    "!git clone https://github.com/orcasgit/python-fitbit\n",
    "!pip3 install python-fitbit/requirements/base.txt\n",
    "!pip3 install --upgrade requests-oauthlib==1.1.0 oauthlib==2.1.0"
   ]
  },
  {
   "cell_type": "markdown",
   "metadata": {},
   "source": [
    "Mosey over to a directory where you can import the `gather_keys_oauth2` module from python-fitbit to get your access and refresh tokens and get that authorization you deserve!"
   ]
  },
  {
   "cell_type": "code",
   "execution_count": 3,
   "metadata": {},
   "outputs": [
    {
     "name": "stdout",
     "output_type": "stream",
     "text": [
      "/Users/luke.armistead/workspace/projects/lukearmistead.github.io/notebooks/python-fitbit\n"
     ]
    }
   ],
   "source": [
    "cd python-fitbit"
   ]
  },
  {
   "cell_type": "code",
   "execution_count": 4,
   "metadata": {},
   "outputs": [
    {
     "name": "stderr",
     "output_type": "stream",
     "text": [
      "[20/Oct/2019:14:05:23] ENGINE Listening for SIGTERM.\n",
      "[20/Oct/2019:14:05:23] ENGINE Listening for SIGHUP.\n",
      "[20/Oct/2019:14:05:23] ENGINE Listening for SIGUSR1.\n",
      "[20/Oct/2019:14:05:23] ENGINE Bus STARTING\n",
      "CherryPy Checker:\n",
      "The Application mounted at '' has an empty config.\n",
      "\n",
      "[20/Oct/2019:14:05:23] ENGINE Started monitor thread 'Autoreloader'.\n",
      "[20/Oct/2019:14:05:23] ENGINE Serving on http://127.0.0.1:8080\n",
      "[20/Oct/2019:14:05:23] ENGINE Bus STARTED\n"
     ]
    },
    {
     "name": "stdout",
     "output_type": "stream",
     "text": [
      "127.0.0.1 - - [20/Oct/2019:14:05:25] \"GET /?code=829e48d7932d973dd7c827235fb2200cd3623b35&state=JFieoWwOLrb8zShMDAriQcrJvMkio1 HTTP/1.1\" 200 122 \"\" \"Mozilla/5.0 (Macintosh; Intel Mac OS X 10_12_6) AppleWebKit/537.36 (KHTML, like Gecko) Chrome/77.0.3865.120 Safari/537.36\"\n"
     ]
    },
    {
     "name": "stderr",
     "output_type": "stream",
     "text": [
      "[20/Oct/2019:14:05:26] ENGINE Bus STOPPING\n",
      "[20/Oct/2019:14:05:31] ENGINE HTTP Server cherrypy._cpwsgi_server.CPWSGIServer(('127.0.0.1', 8080)) shut down\n",
      "[20/Oct/2019:14:05:31] ENGINE Stopped thread 'Autoreloader'.\n",
      "[20/Oct/2019:14:05:31] ENGINE Bus STOPPED\n",
      "[20/Oct/2019:14:05:31] ENGINE Bus EXITING\n",
      "[20/Oct/2019:14:05:31] ENGINE Bus EXITED\n",
      "[20/Oct/2019:14:05:31] ENGINE Waiting for child threads to terminate...\n"
     ]
    }
   ],
   "source": [
    "from gather_keys_oauth2 import *\n",
    "\n",
    "server = OAuth2Server(CLIENT_ID, CLIENT_SECRET)\n",
    "server.browser_authorize()\n",
    "keys = server.fitbit.client.session.token\n",
    "ACCESS_TOKEN, REFRESH_TOKEN = str(keys['access_token']), str(keys['refresh_token'])"
   ]
  },
  {
   "cell_type": "markdown",
   "metadata": {},
   "source": [
    "If you're like me, you hit a 500 error here. [The Fitbit help forum suggests](https://community.fitbit.com/t5/Web-API-Development/Invalid-Client-Error/td-p/3290376) and my experience corroborates that you can get around this by downgrading to `requests-oauthlib==1.1.0` and `oauthlib==2.1.0`.\n",
    "\n",
    "Finally, go ahead and create a client to ferry your fitbit data requests"
   ]
  },
  {
   "cell_type": "code",
   "execution_count": 5,
   "metadata": {},
   "outputs": [],
   "source": [
    "import fitbit\n",
    "\n",
    "client = fitbit.Fitbit(\n",
    "    client_id=CLIENT_ID,\n",
    "    client_secret=CLIENT_SECRET,\n",
    "    oauth2=True,\n",
    "    access_token=ACCESS_TOKEN,\n",
    "    refresh_token=REFRESH_TOKEN\n",
    ")"
   ]
  },
  {
   "cell_type": "markdown",
   "metadata": {},
   "source": [
    "## Step 3: Now for the good stuff. Let's get that data!\n",
    "\n",
    "Hit [Fitbit's Web API](https://dev.fitbit.com/build/reference/web-api/) to pull in your data. Heads up, Fitbit [limits the number of daily requests you can make](https://dev.fitbit.com/build/reference/web-api/heart-rate/). Be careful not to over-ask or you'll have to wait a day to try again."
   ]
  },
  {
   "cell_type": "markdown",
   "metadata": {},
   "source": [
    "Start by establishing the range of time we want to pull. Fitbit gets testy if you request more than 100 days of data. We'll abide by this until we have a need for more historical data."
   ]
  },
  {
   "cell_type": "code",
   "execution_count": 6,
   "metadata": {},
   "outputs": [],
   "source": [
    "from datetime import datetime, timedelta\n",
    "\n",
    "today = datetime.now()\n",
    "base_date = today - timedelta(days=100) # Fitbit doesn't like if we request more than 100 days. Meh. Fine."
   ]
  },
  {
   "cell_type": "markdown",
   "metadata": {},
   "source": [
    "Next, let's request our data! We'll simplify this by using the `time-series` method built into our `python-fitbit` package."
   ]
  },
  {
   "cell_type": "code",
   "execution_count": 7,
   "metadata": {},
   "outputs": [
    {
     "data": {
      "text/plain": [
       "{'awakeCount': 3,\n",
       " 'awakeDuration': 4,\n",
       " 'awakeningsCount': 13,\n",
       " 'dateOfSleep': '2019-10-19',\n",
       " 'duration': 28440000,\n",
       " 'efficiency': 94,\n",
       " 'endTime': '2019-10-19T08:02:30.000',\n",
       " 'logId': 24320700816,\n",
       " 'minutesAfterWakeup': 0,\n",
       " 'minutesAsleep': 447,\n",
       " 'minutesAwake': 27,\n",
       " 'minutesToFallAsleep': 0,\n",
       " 'restlessCount': 10,\n",
       " 'restlessDuration': 23,\n",
       " 'startTime': '2019-10-19T00:08:30.000',\n",
       " 'timeInBed': 474}"
      ]
     },
     "execution_count": 7,
     "metadata": {},
     "output_type": "execute_result"
    }
   ],
   "source": [
    "sleeps = client.time_series(resource='sleep', base_date=base_date, end_date=today)\n",
    "\n",
    "# Remove the minute by minute data of last night's sleep for nicer printing\n",
    "example = sleeps['sleep'][0]\n",
    "example.pop('minuteData', None) \n",
    "example"
   ]
  },
  {
   "cell_type": "markdown",
   "metadata": {},
   "source": [
    "Pull down the rest of your data. I grabbed the stuff that interests me, but there is a lot more! Check out the [Fitbit API documentation](https://dev.fitbit.com/build/reference/web-api/) to learn about what's possible."
   ]
  },
  {
   "cell_type": "code",
   "execution_count": 8,
   "metadata": {},
   "outputs": [],
   "source": [
    "activities = client.time_series(resource='activities/distance', base_date=base_date, end_date=today)\n",
    "weights = client.time_series(resource='body/weight', base_date=base_date, end_date=today)\n",
    "fats = client.time_series(resource='body/fat', base_date=base_date, end_date=today)\n",
    "bmis = client.time_series(resource='body/bmi', base_date=base_date, end_date=today)"
   ]
  },
  {
   "cell_type": "markdown",
   "metadata": {},
   "source": [
    "Most of the payloads returned by requests are pretty simple. I wrote a function to handle those cases."
   ]
  },
  {
   "cell_type": "code",
   "execution_count": 9,
   "metadata": {},
   "outputs": [],
   "source": [
    "def unload_simple_json(data, d=None):\n",
    "    if not d:\n",
    "        d = {'dateTime': [], 'value': []}\n",
    "    for entry in data:\n",
    "        for k in d.keys():\n",
    "            d[k].append(entry[k])\n",
    "    return d\n",
    "\n",
    "d = {'efficiency': [],'minutesAsleep': [], 'startTime': [], 'endTime': [], 'awakeningsCount': [], 'dateOfSleep': []}\n",
    "sleeps = unload_simple_json(sleeps['sleep'], d=d)\n",
    "activities = unload_simple_json(activities['activities-distance'])\n",
    "weights = unload_simple_json(weights['body-weight'])\n",
    "fats = unload_simple_json(fats['body-fat'])\n",
    "bmis = unload_simple_json(bmis['body-bmi'])"
   ]
  },
  {
   "cell_type": "markdown",
   "metadata": {},
   "source": [
    "Some endpoints have different structures so we'll have to write some custom logic."
   ]
  },
  {
   "cell_type": "code",
   "execution_count": 10,
   "metadata": {},
   "outputs": [
    {
     "data": {
      "text/plain": [
       "{'dateTime': '2019-07-12',\n",
       " 'value': {'customHeartRateZones': [],\n",
       "  'heartRateZones': [{'caloriesOut': 2273.24235,\n",
       "    'max': 95,\n",
       "    'min': 30,\n",
       "    'minutes': 1167,\n",
       "    'name': 'Out of Range'},\n",
       "   {'caloriesOut': 1197.4905,\n",
       "    'max': 133,\n",
       "    'min': 95,\n",
       "    'minutes': 200,\n",
       "    'name': 'Fat Burn'},\n",
       "   {'caloriesOut': 0, 'max': 161, 'min': 133, 'minutes': 0, 'name': 'Cardio'},\n",
       "   {'caloriesOut': 0, 'max': 220, 'min': 161, 'minutes': 0, 'name': 'Peak'}],\n",
       "  'restingHeartRate': 59}}"
      ]
     },
     "execution_count": 10,
     "metadata": {},
     "output_type": "execute_result"
    }
   ],
   "source": [
    "hearts = client.time_series(resource='activities/heart', base_date=base_date, end_date=today)\n",
    "hearts['activities-heart'][0]"
   ]
  },
  {
   "cell_type": "code",
   "execution_count": 11,
   "metadata": {},
   "outputs": [],
   "source": [
    "d = {\n",
    "    'Fat Burn': [],\n",
    "    'Cardio': [],\n",
    "    'Peak': [],\n",
    "    'dateTime': [],\n",
    "    'restingHeartRate': []\n",
    "}\n",
    "\n",
    "for entry in list(hearts['activities-heart']):\n",
    "    d['dateTime'].append(entry.get('dateTime'))\n",
    "    d['restingHeartRate'].append(entry['value'].get('restingHeartRate'))\n",
    "    \n",
    "    # Flattening embedded list\n",
    "    for k in d.keys():\n",
    "        for value in entry['value']['heartRateZones']:\n",
    "            if value['name'] == k:\n",
    "                d[k].append(value.get('minutes'))\n",
    "hearts = d"
   ]
  },
  {
   "cell_type": "markdown",
   "metadata": {},
   "source": [
    "Next we'll organize our data it into pandas dataframes. Let's start by setting up a foundational table with all the dates we'll need."
   ]
  },
  {
   "cell_type": "code",
   "execution_count": 12,
   "metadata": {},
   "outputs": [
    {
     "data": {
      "text/html": [
       "<div>\n",
       "<style scoped>\n",
       "    .dataframe tbody tr th:only-of-type {\n",
       "        vertical-align: middle;\n",
       "    }\n",
       "\n",
       "    .dataframe tbody tr th {\n",
       "        vertical-align: top;\n",
       "    }\n",
       "\n",
       "    .dataframe thead th {\n",
       "        text-align: right;\n",
       "    }\n",
       "</style>\n",
       "<table border=\"1\" class=\"dataframe\">\n",
       "  <thead>\n",
       "    <tr style=\"text-align: right;\">\n",
       "      <th></th>\n",
       "      <th>dateTime</th>\n",
       "    </tr>\n",
       "  </thead>\n",
       "  <tbody>\n",
       "    <tr>\n",
       "      <th>0</th>\n",
       "      <td>2019-07-12</td>\n",
       "    </tr>\n",
       "    <tr>\n",
       "      <th>1</th>\n",
       "      <td>2019-07-13</td>\n",
       "    </tr>\n",
       "    <tr>\n",
       "      <th>2</th>\n",
       "      <td>2019-07-14</td>\n",
       "    </tr>\n",
       "    <tr>\n",
       "      <th>3</th>\n",
       "      <td>2019-07-15</td>\n",
       "    </tr>\n",
       "    <tr>\n",
       "      <th>4</th>\n",
       "      <td>2019-07-16</td>\n",
       "    </tr>\n",
       "  </tbody>\n",
       "</table>\n",
       "</div>"
      ],
      "text/plain": [
       "     dateTime\n",
       "0  2019-07-12\n",
       "1  2019-07-13\n",
       "2  2019-07-14\n",
       "3  2019-07-15\n",
       "4  2019-07-16"
      ]
     },
     "execution_count": 12,
     "metadata": {},
     "output_type": "execute_result"
    }
   ],
   "source": [
    "import pandas as pd\n",
    "\n",
    "df = pd.DataFrame(\n",
    "    pd.date_range(start=base_date, end=today)\n",
    "    ).rename(columns={0: 'dateTime'})\n",
    "df['dateTime'] = pd.to_datetime(df['dateTime']).dt.date\n",
    "df.head()"
   ]
  },
  {
   "cell_type": "markdown",
   "metadata": {},
   "source": [
    "I renamed these keys to avoid merging them as duplicate column names later."
   ]
  },
  {
   "cell_type": "code",
   "execution_count": 13,
   "metadata": {},
   "outputs": [],
   "source": [
    "weights['weight'] = weights.pop('value')\n",
    "fats['fat_pct'] = fats.pop('value')\n",
    "bmis['bmi'] = bmis.pop('value')\n",
    "sleeps['dateTime'] = sleeps.pop('dateOfSleep')"
   ]
  },
  {
   "cell_type": "markdown",
   "metadata": {},
   "source": [
    "Now merge up your data!"
   ]
  },
  {
   "cell_type": "code",
   "execution_count": 14,
   "metadata": {},
   "outputs": [],
   "source": [
    "for d in [activities, weights, fats, bmis, hearts]:\n",
    "    d = pd.DataFrame(d)\n",
    "    d['dateTime'] = pd.to_datetime(d['dateTime']).dt.date\n",
    "    df = df.merge(pd.DataFrame(d), how='left', on='dateTime')"
   ]
  },
  {
   "cell_type": "markdown",
   "metadata": {},
   "source": [
    "The sleep data has multiple values for each date. A simple aggregation should be enough to de-duplicate with enough fidelity for the rough analyses we'll be running to start."
   ]
  },
  {
   "cell_type": "code",
   "execution_count": 15,
   "metadata": {},
   "outputs": [
    {
     "data": {
      "text/html": [
       "<div>\n",
       "<style scoped>\n",
       "    .dataframe tbody tr th:only-of-type {\n",
       "        vertical-align: middle;\n",
       "    }\n",
       "\n",
       "    .dataframe tbody tr th {\n",
       "        vertical-align: top;\n",
       "    }\n",
       "\n",
       "    .dataframe thead th {\n",
       "        text-align: right;\n",
       "    }\n",
       "</style>\n",
       "<table border=\"1\" class=\"dataframe\">\n",
       "  <thead>\n",
       "    <tr style=\"text-align: right;\">\n",
       "      <th></th>\n",
       "      <th>efficiency</th>\n",
       "      <th>minutesAsleep</th>\n",
       "      <th>startTime</th>\n",
       "      <th>endTime</th>\n",
       "      <th>awakeningsCount</th>\n",
       "      <th>dateTime</th>\n",
       "    </tr>\n",
       "  </thead>\n",
       "  <tbody>\n",
       "    <tr>\n",
       "      <th>2</th>\n",
       "      <td>96</td>\n",
       "      <td>71</td>\n",
       "      <td>2019-10-17T22:02:00.000</td>\n",
       "      <td>2019-10-17T23:16:30.000</td>\n",
       "      <td>1</td>\n",
       "      <td>2019-10-17</td>\n",
       "    </tr>\n",
       "    <tr>\n",
       "      <th>3</th>\n",
       "      <td>96</td>\n",
       "      <td>358</td>\n",
       "      <td>2019-10-17T00:21:00.000</td>\n",
       "      <td>2019-10-17T06:34:00.000</td>\n",
       "      <td>10</td>\n",
       "      <td>2019-10-17</td>\n",
       "    </tr>\n",
       "    <tr>\n",
       "      <th>44</th>\n",
       "      <td>87</td>\n",
       "      <td>109</td>\n",
       "      <td>2019-09-06T10:37:30.000</td>\n",
       "      <td>2019-09-06T12:43:30.000</td>\n",
       "      <td>9</td>\n",
       "      <td>2019-09-06</td>\n",
       "    </tr>\n",
       "    <tr>\n",
       "      <th>45</th>\n",
       "      <td>88</td>\n",
       "      <td>278</td>\n",
       "      <td>2019-09-06T01:41:00.000</td>\n",
       "      <td>2019-09-06T06:57:00.000</td>\n",
       "      <td>13</td>\n",
       "      <td>2019-09-06</td>\n",
       "    </tr>\n",
       "    <tr>\n",
       "      <th>85</th>\n",
       "      <td>81</td>\n",
       "      <td>60</td>\n",
       "      <td>2019-07-14T08:21:00.000</td>\n",
       "      <td>2019-07-14T09:35:30.000</td>\n",
       "      <td>3</td>\n",
       "      <td>2019-07-14</td>\n",
       "    </tr>\n",
       "    <tr>\n",
       "      <th>86</th>\n",
       "      <td>91</td>\n",
       "      <td>329</td>\n",
       "      <td>2019-07-14T01:02:30.000</td>\n",
       "      <td>2019-07-14T07:12:00.000</td>\n",
       "      <td>9</td>\n",
       "      <td>2019-07-14</td>\n",
       "    </tr>\n",
       "    <tr>\n",
       "      <th>87</th>\n",
       "      <td>93</td>\n",
       "      <td>56</td>\n",
       "      <td>2019-07-13T19:25:30.000</td>\n",
       "      <td>2019-07-13T20:36:30.000</td>\n",
       "      <td>6</td>\n",
       "      <td>2019-07-13</td>\n",
       "    </tr>\n",
       "    <tr>\n",
       "      <th>88</th>\n",
       "      <td>90</td>\n",
       "      <td>572</td>\n",
       "      <td>2019-07-12T22:28:00.000</td>\n",
       "      <td>2019-07-13T09:04:30.000</td>\n",
       "      <td>27</td>\n",
       "      <td>2019-07-13</td>\n",
       "    </tr>\n",
       "  </tbody>\n",
       "</table>\n",
       "</div>"
      ],
      "text/plain": [
       "    efficiency  minutesAsleep                startTime  \\\n",
       "2           96             71  2019-10-17T22:02:00.000   \n",
       "3           96            358  2019-10-17T00:21:00.000   \n",
       "44          87            109  2019-09-06T10:37:30.000   \n",
       "45          88            278  2019-09-06T01:41:00.000   \n",
       "85          81             60  2019-07-14T08:21:00.000   \n",
       "86          91            329  2019-07-14T01:02:30.000   \n",
       "87          93             56  2019-07-13T19:25:30.000   \n",
       "88          90            572  2019-07-12T22:28:00.000   \n",
       "\n",
       "                    endTime  awakeningsCount    dateTime  \n",
       "2   2019-10-17T23:16:30.000                1  2019-10-17  \n",
       "3   2019-10-17T06:34:00.000               10  2019-10-17  \n",
       "44  2019-09-06T12:43:30.000                9  2019-09-06  \n",
       "45  2019-09-06T06:57:00.000               13  2019-09-06  \n",
       "85  2019-07-14T09:35:30.000                3  2019-07-14  \n",
       "86  2019-07-14T07:12:00.000                9  2019-07-14  \n",
       "87  2019-07-13T20:36:30.000                6  2019-07-13  \n",
       "88  2019-07-13T09:04:30.000               27  2019-07-13  "
      ]
     },
     "execution_count": 15,
     "metadata": {},
     "output_type": "execute_result"
    }
   ],
   "source": [
    "sleeps = pd.DataFrame(sleeps)\n",
    "sleeps[sleeps.duplicated(subset='dateTime', keep=False)]"
   ]
  },
  {
   "cell_type": "markdown",
   "metadata": {},
   "source": [
    "Looks like we got 'em."
   ]
  },
  {
   "cell_type": "code",
   "execution_count": 16,
   "metadata": {},
   "outputs": [
    {
     "data": {
      "text/html": [
       "<div>\n",
       "<style scoped>\n",
       "    .dataframe tbody tr th:only-of-type {\n",
       "        vertical-align: middle;\n",
       "    }\n",
       "\n",
       "    .dataframe tbody tr th {\n",
       "        vertical-align: top;\n",
       "    }\n",
       "\n",
       "    .dataframe thead th {\n",
       "        text-align: right;\n",
       "    }\n",
       "</style>\n",
       "<table border=\"1\" class=\"dataframe\">\n",
       "  <thead>\n",
       "    <tr style=\"text-align: right;\">\n",
       "      <th></th>\n",
       "      <th>dateTime</th>\n",
       "      <th>startTime</th>\n",
       "      <th>endTime</th>\n",
       "      <th>minutesAsleep</th>\n",
       "      <th>efficiency</th>\n",
       "    </tr>\n",
       "  </thead>\n",
       "  <tbody>\n",
       "  </tbody>\n",
       "</table>\n",
       "</div>"
      ],
      "text/plain": [
       "Empty DataFrame\n",
       "Columns: [dateTime, startTime, endTime, minutesAsleep, efficiency]\n",
       "Index: []"
      ]
     },
     "execution_count": 16,
     "metadata": {},
     "output_type": "execute_result"
    }
   ],
   "source": [
    "# sleeps['dateTime'] = sleeps.pop('dateOfSleep')\n",
    "sleeps = sleeps \\\n",
    "    .groupby('dateTime', as_index=False) \\\n",
    "    .agg({'startTime': min, 'endTime': max, 'minutesAsleep': sum, 'efficiency': 'mean'})\n",
    "sleeps[sleeps.duplicated(subset='dateTime', keep=False)]"
   ]
  },
  {
   "cell_type": "code",
   "execution_count": 17,
   "metadata": {},
   "outputs": [],
   "source": [
    "sleeps['dateTime'] = pd.to_datetime(sleeps['dateTime']).dt.date\n",
    "df = df.merge(pd.DataFrame(sleeps), how='left', on='dateTime')"
   ]
  },
  {
   "cell_type": "markdown",
   "metadata": {},
   "source": [
    "Clean up column names. I must confess that I'm not crazy about camelcase."
   ]
  },
  {
   "cell_type": "code",
   "execution_count": 18,
   "metadata": {},
   "outputs": [],
   "source": [
    "df = df.rename(columns={\n",
    "    'dateTime': 'date',\n",
    "    'efficiency': 'sleep_efficiency',\n",
    "    'minutesAsleep': 'sleep_minutes', \n",
    "    'startTime': 'sleep_start_at',\n",
    "    'endTime': 'sleep_end_at',\n",
    "    'awakeningsCount': 'wake_count',\n",
    "    'Fat Burn': 'fat_burn_minutes',\n",
    "    'Cardio': 'cardio_minutes',\n",
    "    'Peak': 'peak_minutes',\n",
    "    'restingHeartRate': 'resting_heart_rate'\n",
    "})"
   ]
  },
  {
   "cell_type": "markdown",
   "metadata": {},
   "source": [
    "And finally export as a CSV!"
   ]
  },
  {
   "cell_type": "code",
   "execution_count": 19,
   "metadata": {},
   "outputs": [],
   "source": [
    "df.to_csv('../../data/{}_to_{}_fitbit_data.csv'.format(base_date.date(), today.date()), index=False)"
   ]
  },
  {
   "cell_type": "markdown",
   "metadata": {},
   "source": [
    "- Facts => day / wk / mo tables\n",
    "- Add in goals and metrics\n",
    "- Daily pull\n",
    "- Set up ETL to pull down historical data\n",
    "- Store data remotely"
   ]
  }
 ],
 "metadata": {
  "kernelspec": {
   "display_name": "py3",
   "language": "python",
   "name": "py3"
  },
  "language_info": {
   "codemirror_mode": {
    "name": "ipython",
    "version": 3
   },
   "file_extension": ".py",
   "mimetype": "text/x-python",
   "name": "python",
   "nbconvert_exporter": "python",
   "pygments_lexer": "ipython3",
   "version": "3.6.3"
  }
 },
 "nbformat": 4,
 "nbformat_minor": 2
}
