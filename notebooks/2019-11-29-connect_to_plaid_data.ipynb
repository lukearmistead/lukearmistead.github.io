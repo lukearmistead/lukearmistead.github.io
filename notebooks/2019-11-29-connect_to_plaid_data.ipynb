{
 "cells": [
  {
   "cell_type": "markdown",
   "metadata": {},
   "source": [
    "---\n",
    "layout: post\n",
    "title:  \"Extracting financial data using Plaid\"\n",
    "date:   2019-11-29\n",
    "categories: jekyll update\n",
    "---\n",
    "\n",
    "Our quest to to overengineer the quantified self continues! Last time, we grabbed a plethora of [health data using Fitbit](http://luuuuke.com/jekyll/update/2019/10/20/connect_to_fitbit_data.html). Today, we're talking money! How much am I spending? How much am I making? How much do I have? We can answer all of these questions and more using the really cool, really robust API provided by [Plaid](http://plaid.com/). This post walks through setting up an account and connection with Plaid to access and store your data. Once stored, there's all sorts of cool analyses we could run to increase financial awareness and improve spending habits. Enough talk. Let's get to it!\n",
    "\n",
    "## Step 1: Register for Plaid and connect a bank account\n",
    "\n",
    "Start by getting your creds from [Plaid's website](https://dashboard.plaid.com/signup). Signing up gets you 1 free connected account but you can [request developer access](https://dashboard.plaid.com/overview/development) to get another 99 if you're like me and want to connect more.\n",
    "\n",
    "Next, export the creds listed on your newly created account into your local environment. [Plaid's quickstart tool](https://github.com/plaid/quickstart/blob/master/python/server.py) specificaly expects the variable names printed below, so be sure to export them that way!\n",
    "\n",
    "If you have trouble with these steps, the first half of [Zev's awesome tutorial](https://www.twilio.com/blog/2017/06/check-daily-spending-sms-python-plaid-twilio.html) provides a far more detailed walkthrough that could help you push through hangups."
   ]
  },
  {
   "cell_type": "code",
   "execution_count": 1,
   "metadata": {},
   "outputs": [
    {
     "name": "stdout",
     "output_type": "stream",
     "text": [
      "Environment variable names for Plaid creds:\n",
      "PLAID_CLIENT_ID\n",
      "PLAID_SECRET\n",
      "PLAID_PUBLIC_KEY\n",
      "PLAID_ENV\n"
     ]
    }
   ],
   "source": [
    "import os\n",
    "import yaml\n",
    "\n",
    "with open(\"../creds.yml\", 'r') as stream:\n",
    "    creds = yaml.safe_load(stream)['plaid']\n",
    "\n",
    "print('Environment variable names for Plaid creds:')\n",
    "for k, v in creds.items():\n",
    "    if k in ['client_id', 'secret', 'public_key', 'env']:\n",
    "        k = ('plaid_' + k).upper()\n",
    "        print(k)\n",
    "        os.environ[k] = v\n",
    "    else:\n",
    "        pass"
   ]
  },
  {
   "cell_type": "markdown",
   "metadata": {},
   "source": [
    "Next, clone Plaid quickstart guide to take advantage of the GUI they wrote to connect to your financial accounts."
   ]
  },
  {
   "cell_type": "code",
   "execution_count": null,
   "metadata": {},
   "outputs": [],
   "source": [
    "!git clone https://github.com/plaid/quickstart.git"
   ]
  },
  {
   "cell_type": "markdown",
   "metadata": {},
   "source": [
    "Now run and navigate to Plaid's authorization server (`http://localhost:5000/` for me) and follow the instructions in the GUI to connect your account. If you run into trouble, check out [Plaid's quickstart guide](https://plaid.com/docs/quickstart/) or the [quickstart source code](https://github.com/plaid/quickstart/tree/master/python)."
   ]
  },
  {
   "cell_type": "code",
   "execution_count": null,
   "metadata": {},
   "outputs": [],
   "source": [
    "!python quickstart/python/server.py"
   ]
  },
  {
   "cell_type": "markdown",
   "metadata": {},
   "source": [
    "You should get back a payload that includes an `access_token` for your account. Hang on to that. You'll need it later."
   ]
  },
  {
   "cell_type": "markdown",
   "metadata": {},
   "source": [
    "## Step 2. Get transaction data\n",
    "\n",
    "Now that we have the credentials to connect to a specific account using Plaid's API, we can get our data! We'll start by using the [plaid python package](https://github.com/plaid/plaid-python#install) to create a `Client` object."
   ]
  },
  {
   "cell_type": "code",
   "execution_count": null,
   "metadata": {},
   "outputs": [],
   "source": [
    "from plaid import Client\n",
    "\n",
    "with open(\"../creds.yml\", 'r') as stream:\n",
    "    creds = yaml.safe_load(stream)['plaid']\n",
    "\n",
    "client = Client(\n",
    "    client_id=creds['client_id'],\n",
    "    secret=creds['secret'],\n",
    "    public_key=creds['public_key'],\n",
    "    environment=creds['env']\n",
    ")"
   ]
  },
  {
   "cell_type": "markdown",
   "metadata": {},
   "source": [
    "Using this object, we can hit the API for our financial details. I'm interested in monitoring my spending, so I use the `Transactions` method to focus there. There is a [ton of additional functionality](https://plaid.github.io/plaid-python/index.html) like `AssetReport` or `Income`, so feel free to go wild!\n",
    "\n",
    "I hit two gotchas. First, Plaid appears to limit the nuber of transactions per call to 100ish. If you're pulling years of data, you might have to chunk it to avoid this snag. Second, as of the publication of this post, Capital One and Plaid had [an ongoing disagreement](http://news.fintech.io/post/102ey7d/capital-one-restricts-third-party-data-access-to-plaid-upsets-customers) about the right way to secure user data. If you're like me and have a Capital One checking account, that data likely won't be accessible via Plaid until that dispute is resolved. "
   ]
  },
  {
   "cell_type": "code",
   "execution_count": 5,
   "metadata": {},
   "outputs": [],
   "source": [
    "from datetime import datetime, timedelta\n",
    "import pandas as pd\n",
    "\n",
    "d = client.Transactions.get(\n",
    "    access_token=creds['barclays']['access_token'],\n",
    "    start_date='2019-06-30',\n",
    "    end_date='2019-09-30'\n",
    ")"
   ]
  },
  {
   "cell_type": "markdown",
   "metadata": {},
   "source": [
    "The payload returned by the `Transactions` call fits very, very neatly into a dataframe. We can then use Pandas to manipulate and store our data in a csv."
   ]
  },
  {
   "cell_type": "code",
   "execution_count": 6,
   "metadata": {},
   "outputs": [
    {
     "data": {
      "text/html": [
       "<div>\n",
       "<style scoped>\n",
       "    .dataframe tbody tr th:only-of-type {\n",
       "        vertical-align: middle;\n",
       "    }\n",
       "\n",
       "    .dataframe tbody tr th {\n",
       "        vertical-align: top;\n",
       "    }\n",
       "\n",
       "    .dataframe thead th {\n",
       "        text-align: right;\n",
       "    }\n",
       "</style>\n",
       "<table border=\"1\" class=\"dataframe\">\n",
       "  <thead>\n",
       "    <tr style=\"text-align: right;\">\n",
       "      <th></th>\n",
       "      <th>category</th>\n",
       "      <th>date</th>\n",
       "      <th>amount</th>\n",
       "      <th>name</th>\n",
       "      <th>transaction_id</th>\n",
       "    </tr>\n",
       "  </thead>\n",
       "  <tbody>\n",
       "    <tr>\n",
       "      <td>3</td>\n",
       "      <td>[Shops]</td>\n",
       "      <td>2019-09-26</td>\n",
       "      <td>253.31</td>\n",
       "      <td>THE PAWN SHOP</td>\n",
       "      <td>PND13M6VxJC3BekOR7R3CyNmDKQaEAFmVYgd8</td>\n",
       "    </tr>\n",
       "  </tbody>\n",
       "</table>\n",
       "</div>"
      ],
      "text/plain": [
       "  category        date  amount           name  \\\n",
       "3  [Shops]  2019-09-26  253.31  THE PAWN SHOP   \n",
       "\n",
       "                          transaction_id  \n",
       "3  PND13M6VxJC3BekOR7R3CyNmDKQaEAFmVYgd8  "
      ]
     },
     "execution_count": 6,
     "metadata": {},
     "output_type": "execute_result"
    }
   ],
   "source": [
    "df = pd.DataFrame(d['transactions'])\n",
    "df.loc[df['transaction_id'] == 'PND13M6VxJC3BekOR7R3CyNmDKQaEAFmVYgd8', ['category', 'date', 'amount', 'name', 'transaction_id']]"
   ]
  },
  {
   "cell_type": "code",
   "execution_count": 8,
   "metadata": {},
   "outputs": [],
   "source": [
    "df.to_csv('../data/transactions.csv', index=False)"
   ]
  },
  {
   "cell_type": "markdown",
   "metadata": {},
   "source": [
    "Now we have not one but TWO sources of data. Things are getting interesting. Could we identify trends across our different sources? Does going to the bar one night reduce the likelihood of hitting the gym the next day? Does sleeping more result in better frugality? So many hypotheses, so little time."
   ]
  }
 ],
 "metadata": {
  "kernelspec": {
   "display_name": "py3",
   "language": "python",
   "name": "py3"
  },
  "language_info": {
   "codemirror_mode": {
    "name": "ipython",
    "version": 3
   },
   "file_extension": ".py",
   "mimetype": "text/x-python",
   "name": "python",
   "nbconvert_exporter": "python",
   "pygments_lexer": "ipython3",
   "version": "3.6.3"
  }
 },
 "nbformat": 4,
 "nbformat_minor": 2
}
