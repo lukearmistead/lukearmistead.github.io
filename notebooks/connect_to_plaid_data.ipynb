{
 "cells": [
  {
   "cell_type": "markdown",
   "metadata": {},
   "source": [
    "https://github.com/plaid/plaid-python\n",
    "https://www.twilio.com/blog/2017/06/check-daily-spending-sms-python-plaid-twilio.html"
   ]
  },
  {
   "cell_type": "code",
   "execution_count": 41,
   "metadata": {},
   "outputs": [
    {
     "name": "stdout",
     "output_type": "stream",
     "text": [
      "/Users/luke.armistead/workspace/projects/lukearmistead.github.io/notebooks\n"
     ]
    }
   ],
   "source": [
    "cd ../../"
   ]
  },
  {
   "cell_type": "code",
   "execution_count": 54,
   "metadata": {},
   "outputs": [],
   "source": [
    "import os\n",
    "import yaml\n",
    "\n",
    "with open(\"../creds.yml\", 'r') as stream:\n",
    "    creds = yaml.safe_load(stream)['plaid']\n",
    "\n",
    "for k, v in creds.items():\n",
    "    if k in ['client_id', 'secret', 'public_key', 'env']:\n",
    "        os.environ[('plaid_' + k).upper()] = v\n",
    "    else:\n",
    "        pass"
   ]
  },
  {
   "cell_type": "code",
   "execution_count": 56,
   "metadata": {},
   "outputs": [
    {
     "name": "stdout",
     "output_type": "stream",
     "text": [
      "fatal: destination path 'quickstart' already exists and is not an empty directory.\n"
     ]
    }
   ],
   "source": [
    "!git clone https://github.com/plaid/quickstart.git"
   ]
  },
  {
   "cell_type": "code",
   "execution_count": 57,
   "metadata": {},
   "outputs": [
    {
     "name": "stdout",
     "output_type": "stream",
     "text": [
      "/Users/luke.armistead/workspace/projects/lukearmistead.github.io/notebooks/quickstart/python\n"
     ]
    }
   ],
   "source": [
    "cd quickstart/python/"
   ]
  },
  {
   "cell_type": "code",
   "execution_count": null,
   "metadata": {},
   "outputs": [],
   "source": [
    "!python server.py"
   ]
  },
  {
   "cell_type": "markdown",
   "metadata": {},
   "source": [
    "### Update YAML"
   ]
  },
  {
   "cell_type": "code",
   "execution_count": 64,
   "metadata": {},
   "outputs": [
    {
     "data": {
      "text/plain": [
       "'/Users/luke.armistead/workspace/projects/lukearmistead.github.io/notebooks/quickstart/python'"
      ]
     },
     "execution_count": 64,
     "metadata": {},
     "output_type": "execute_result"
    }
   ],
   "source": [
    "pwd"
   ]
  },
  {
   "cell_type": "code",
   "execution_count": 65,
   "metadata": {},
   "outputs": [
    {
     "name": "stdout",
     "output_type": "stream",
     "text": [
      "/Users/luke.armistead/workspace/projects/lukearmistead.github.io/notebooks\n"
     ]
    }
   ],
   "source": [
    "cd ../../"
   ]
  },
  {
   "cell_type": "code",
   "execution_count": 66,
   "metadata": {},
   "outputs": [],
   "source": [
    "with open(\"../creds.yml\", 'r') as stream:\n",
    "    creds = yaml.safe_load(stream)['plaid']"
   ]
  },
  {
   "cell_type": "code",
   "execution_count": 67,
   "metadata": {},
   "outputs": [
    {
     "name": "stderr",
     "output_type": "stream",
     "text": [
      "/usr/local/var/pyenv/versions/3.6.3/envs/py3/lib/python3.6/site-packages/plaid/client.py:72: UserWarning: \n",
      "                Development is not intended for production usage.\n",
      "                Swap out url for https://production.plaid.com\n",
      "                via Client.config before switching to production\n",
      "            \n",
      "  ''')\n"
     ]
    }
   ],
   "source": [
    "from plaid import Client\n",
    "\n",
    "client = Client(\n",
    "    client_id=creds['client_id'],\n",
    "    secret=creds['secret'],\n",
    "    public_key=creds['public_key'],\n",
    "    environment=creds['env']\n",
    ")"
   ]
  },
  {
   "cell_type": "code",
   "execution_count": 69,
   "metadata": {},
   "outputs": [],
   "source": [
    "from datetime import datetime, timedelta\n",
    "\n",
    "end_date = datetime.now().date()\n",
    "start_date = end_date - timedelta(days=365)\n",
    "d = client.Transactions.get(\n",
    "    access_token=creds['barclays']['access_token'],\n",
    "    start_date=str(start_date),\n",
    "    end_date=str(end_date)\n",
    ")"
   ]
  },
  {
   "cell_type": "code",
   "execution_count": 70,
   "metadata": {},
   "outputs": [],
   "source": [
    "from pprint import pprint"
   ]
  },
  {
   "cell_type": "code",
   "execution_count": null,
   "metadata": {},
   "outputs": [],
   "source": [
    "pprint(d['transactions'])"
   ]
  },
  {
   "cell_type": "code",
   "execution_count": null,
   "metadata": {},
   "outputs": [],
   "source": []
  }
 ],
 "metadata": {
  "kernelspec": {
   "display_name": "py3",
   "language": "python",
   "name": "py3"
  },
  "language_info": {
   "codemirror_mode": {
    "name": "ipython",
    "version": 3
   },
   "file_extension": ".py",
   "mimetype": "text/x-python",
   "name": "python",
   "nbconvert_exporter": "python",
   "pygments_lexer": "ipython3",
   "version": "3.6.3"
  }
 },
 "nbformat": 4,
 "nbformat_minor": 2
}
