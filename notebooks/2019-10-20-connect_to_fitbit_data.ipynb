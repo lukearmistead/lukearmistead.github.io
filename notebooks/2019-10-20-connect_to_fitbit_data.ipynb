{
 "cells": [
  {
   "cell_type": "markdown",
   "metadata": {},
   "source": [
    "---\n",
    "layout: post\n",
    "title:  \"Extracting health data from Fitbit\"\n",
    "date:   2019-10-20\n",
    "categories: jekyll update\n",
    "---\n",
    "\n",
    "[Last time](http://luuuuke.com/jekyll/update/2019/07/27/luke-quantifies-himself.html), I laid out the idea of rigging a pipeline to enable data driven self reflection and improvement. The first step is getting data. We'll start with health data from Fitbit. This post will cover using an API to grab the numbers, doing a little cleaning, and storing it as a csv. We won't get too nitty gritty. If you're looking for more detail, I'd recommend checking out this [this blog post](https://towardsdatascience.com/collect-your-own-fitbit-data-with-python-ff145fa10873).\n",
    "\n",
    "#### TODO:\n",
    "\n",
    "- Write conclusion\n",
    "- Use bolding to make steps a little more legible\n",
    "- Make voice consistent\n",
    "\n",
    "## Step 1: Register your personal app with Fitbit\n",
    "\n",
    "Start by registering your personal app with Fitbit at their [fancy developer portal](https://dev.fitbit.com/apps/new). The [aforementioned post](https://towardsdatascience.com/collect-your-own-fitbit-data-with-python-ff145fa10873) details the right inputs for the form. Once you're done, navigate to your newly created app and grab the contents of the \"OAuth 2.0 Client ID\" and \"Client Secret\". In the spirit of not posting creds for all the internet to enjoy, I stored mine locally in a yaml file."
   ]
  },
  {
   "cell_type": "code",
   "execution_count": 1,
   "metadata": {},
   "outputs": [],
   "source": [
    "import yaml\n",
    "with open(\"../creds.yml\", 'r') as stream:\n",
    "    creds = yaml.safe_load(stream)\n",
    "    \n",
    "CLIENT_ID = creds['fitbit']['client_id']\n",
    "CLIENT_SECRET = creds['fitbit']['client_secret']"
   ]
  },
  {
   "cell_type": "markdown",
   "metadata": {},
   "source": [
    "## Step 2: Authorize and connect to Fitbit\n",
    "\n",
    "We'll make heavy use of the `python-fitbit` [package from Jake from Orcas](https://github.com/orcasgit/python-fitbit). We also install specific versions of the `requests-oauthlib` and `oauthlib` libraries to avoid errors when you try to authorize."
   ]
  },
  {
   "cell_type": "code",
   "execution_count": null,
   "metadata": {},
   "outputs": [],
   "source": [
    "!git clone https://github.com/orcasgit/python-fitbit\n",
    "!pip3 install python-fitbit/requirements/base.txt\n",
    "!pip3 install --upgrade requests-oauthlib==1.1.0 oauthlib==2.1.0"
   ]
  },
  {
   "cell_type": "markdown",
   "metadata": {},
   "source": [
    "Navigate to the `python-fitbit` directory."
   ]
  },
  {
   "cell_type": "code",
   "execution_count": null,
   "metadata": {},
   "outputs": [],
   "source": [
    "cd python-fitbit"
   ]
  },
  {
   "cell_type": "markdown",
   "metadata": {},
   "source": [
    "And grab the tools contained in the `gather_keys_oauth2` module to get authorized with the API."
   ]
  },
  {
   "cell_type": "code",
   "execution_count": null,
   "metadata": {},
   "outputs": [],
   "source": [
    "from gather_keys_oauth2 import *\n",
    "\n",
    "server = OAuth2Server(CLIENT_ID, CLIENT_SECRET)\n",
    "server.browser_authorize()\n",
    "keys = server.fitbit.client.session.token\n",
    "ACCESS_TOKEN, REFRESH_TOKEN = str(keys['access_token']), str(keys['refresh_token'])"
   ]
  },
  {
   "cell_type": "markdown",
   "metadata": {},
   "source": [
    "If you're like me, you hit a 500 error here. [The Fitbit help forum suggests](https://community.fitbit.com/t5/Web-API-Development/Invalid-Client-Error/td-p/3290376) and my experience corroborates that you can get around this by downgrading to `requests-oauthlib==1.1.0` and `oauthlib==2.1.0`.\n",
    "\n",
    "Finally, go ahead and create a client to ferry your fitbit data requests."
   ]
  },
  {
   "cell_type": "code",
   "execution_count": 5,
   "metadata": {},
   "outputs": [],
   "source": [
    "import fitbit\n",
    "\n",
    "client = fitbit.Fitbit(\n",
    "    client_id=CLIENT_ID,\n",
    "    client_secret=CLIENT_SECRET,\n",
    "    oauth2=True,\n",
    "    access_token=ACCESS_TOKEN,\n",
    "    refresh_token=REFRESH_TOKEN\n",
    ")"
   ]
  },
  {
   "cell_type": "markdown",
   "metadata": {},
   "source": [
    "If you made it this far, you've successfully created a bridge to your Fitbit data. Now it's time for the good stuff - getting and manipulating your numbers!"
   ]
  },
  {
   "cell_type": "markdown",
   "metadata": {},
   "source": [
    "## Step 3: Get your data\n",
    "\n",
    "Start by establishing the range of time we want to pull. Fitbit gets testy if you request more than 100 days of data. We'll abide by this until we have a need for more historical data."
   ]
  },
  {
   "cell_type": "code",
   "execution_count": 6,
   "metadata": {},
   "outputs": [],
   "source": [
    "from datetime import datetime, timedelta\n",
    "\n",
    "today = datetime.now()\n",
    "base_date = today - timedelta(days=100) # Fitbit doesn't like if we request more than 100 days. Meh. Fine."
   ]
  },
  {
   "cell_type": "markdown",
   "metadata": {},
   "source": [
    "Next, let's use [Fitbit's Web API](https://dev.fitbit.com/build/reference/web-api/) to request our data! We'll simplify this by using the `time-series` method built into our `python-fitbit` package. Heads up, Fitbit [limits the number of daily requests you can make](https://dev.fitbit.com/build/reference/web-api/heart-rate/). Be careful not to over-ask or you'll have to wait a day to try again."
   ]
  },
  {
   "cell_type": "code",
   "execution_count": 7,
   "metadata": {},
   "outputs": [
    {
     "data": {
      "text/plain": [
       "{'awakeCount': 3,\n",
       " 'awakeDuration': 4,\n",
       " 'awakeningsCount': 13,\n",
       " 'dateOfSleep': '2019-10-19',\n",
       " 'duration': 28440000,\n",
       " 'efficiency': 94,\n",
       " 'endTime': '2019-10-19T08:02:30.000',\n",
       " 'logId': 24320700816,\n",
       " 'minutesAfterWakeup': 0,\n",
       " 'minutesAsleep': 447,\n",
       " 'minutesAwake': 27,\n",
       " 'minutesToFallAsleep': 0,\n",
       " 'restlessCount': 10,\n",
       " 'restlessDuration': 23,\n",
       " 'startTime': '2019-10-19T00:08:30.000',\n",
       " 'timeInBed': 474}"
      ]
     },
     "execution_count": 7,
     "metadata": {},
     "output_type": "execute_result"
    }
   ],
   "source": [
    "sleeps = client.time_series(resource='sleep', base_date=base_date, end_date=today)\n",
    "\n",
    "# Remove the minute by minute data of last night's sleep for nicer printing\n",
    "example = sleeps['sleep'][0]\n",
    "example.pop('minuteData', None) \n",
    "example"
   ]
  },
  {
   "cell_type": "markdown",
   "metadata": {},
   "source": [
    "Pull down the rest of your data. I grabbed the stuff that interests me, but there's a lot more! Check out the [Fitbit API documentation](https://dev.fitbit.com/build/reference/web-api/) to learn about what's possible."
   ]
  },
  {
   "cell_type": "code",
   "execution_count": 8,
   "metadata": {},
   "outputs": [],
   "source": [
    "activities = client.time_series(resource='activities/distance', base_date=base_date, end_date=today)\n",
    "weights = client.time_series(resource='body/weight', base_date=base_date, end_date=today)\n",
    "fats = client.time_series(resource='body/fat', base_date=base_date, end_date=today)\n",
    "bmis = client.time_series(resource='body/bmi', base_date=base_date, end_date=today)"
   ]
  },
  {
   "cell_type": "markdown",
   "metadata": {},
   "source": [
    "Most of the payloads returned by requests are pretty simple. I wrote a function to handle those cases."
   ]
  },
  {
   "cell_type": "code",
   "execution_count": 9,
   "metadata": {},
   "outputs": [],
   "source": [
    "def unload_simple_json(data, d=None):\n",
    "    if not d:\n",
    "        d = {'dateTime': [], 'value': []}\n",
    "    for entry in data:\n",
    "        for k in d.keys():\n",
    "            d[k].append(entry[k])\n",
    "    return d\n",
    "\n",
    "d = {'efficiency': [],'minutesAsleep': [], 'startTime': [], 'endTime': [], 'awakeningsCount': [], 'dateOfSleep': []}\n",
    "sleeps = unload_simple_json(sleeps['sleep'], d=d)\n",
    "activities = unload_simple_json(activities['activities-distance'])\n",
    "weights = unload_simple_json(weights['body-weight'])\n",
    "fats = unload_simple_json(fats['body-fat'])\n",
    "bmis = unload_simple_json(bmis['body-bmi'])"
   ]
  },
  {
   "cell_type": "markdown",
   "metadata": {},
   "source": [
    "Some endpoints have different structures so we'll have to write some custom logic."
   ]
  },
  {
   "cell_type": "code",
   "execution_count": 11,
   "metadata": {},
   "outputs": [],
   "source": [
    "hearts = client.time_series(resource='activities/heart', base_date=base_date, end_date=today)\n",
    "hearts['activities-heart'][0]\n",
    "\n",
    "d = {\n",
    "    'Fat Burn': [],\n",
    "    'Cardio': [],\n",
    "    'Peak': [],\n",
    "    'dateTime': [],\n",
    "    'restingHeartRate': []\n",
    "}\n",
    "\n",
    "for entry in list(hearts['activities-heart']):\n",
    "    d['dateTime'].append(entry.get('dateTime'))\n",
    "    d['restingHeartRate'].append(entry['value'].get('restingHeartRate'))\n",
    "    \n",
    "    # Flattening embedded list\n",
    "    for k in d.keys():\n",
    "        for value in entry['value']['heartRateZones']:\n",
    "            if value['name'] == k:\n",
    "                d[k].append(value.get('minutes'))\n",
    "hearts = d"
   ]
  },
  {
   "cell_type": "markdown",
   "metadata": {},
   "source": [
    "## Step 4: Organize and store your data"
   ]
  },
  {
   "cell_type": "markdown",
   "metadata": {},
   "source": [
    "Next we'll organize our data it into pandas dataframes. Let's start by setting up a foundational table with all the dates we'll need."
   ]
  },
  {
   "cell_type": "code",
   "execution_count": 12,
   "metadata": {},
   "outputs": [
    {
     "data": {
      "text/html": [
       "<div>\n",
       "<style scoped>\n",
       "    .dataframe tbody tr th:only-of-type {\n",
       "        vertical-align: middle;\n",
       "    }\n",
       "\n",
       "    .dataframe tbody tr th {\n",
       "        vertical-align: top;\n",
       "    }\n",
       "\n",
       "    .dataframe thead th {\n",
       "        text-align: right;\n",
       "    }\n",
       "</style>\n",
       "<table border=\"1\" class=\"dataframe\">\n",
       "  <thead>\n",
       "    <tr style=\"text-align: right;\">\n",
       "      <th></th>\n",
       "      <th>dateTime</th>\n",
       "    </tr>\n",
       "  </thead>\n",
       "  <tbody>\n",
       "    <tr>\n",
       "      <th>0</th>\n",
       "      <td>2019-07-12</td>\n",
       "    </tr>\n",
       "    <tr>\n",
       "      <th>1</th>\n",
       "      <td>2019-07-13</td>\n",
       "    </tr>\n",
       "    <tr>\n",
       "      <th>2</th>\n",
       "      <td>2019-07-14</td>\n",
       "    </tr>\n",
       "    <tr>\n",
       "      <th>3</th>\n",
       "      <td>2019-07-15</td>\n",
       "    </tr>\n",
       "    <tr>\n",
       "      <th>4</th>\n",
       "      <td>2019-07-16</td>\n",
       "    </tr>\n",
       "  </tbody>\n",
       "</table>\n",
       "</div>"
      ],
      "text/plain": [
       "     dateTime\n",
       "0  2019-07-12\n",
       "1  2019-07-13\n",
       "2  2019-07-14\n",
       "3  2019-07-15\n",
       "4  2019-07-16"
      ]
     },
     "execution_count": 12,
     "metadata": {},
     "output_type": "execute_result"
    }
   ],
   "source": [
    "import pandas as pd\n",
    "\n",
    "df = pd.DataFrame(\n",
    "    pd.date_range(start=base_date, end=today)\n",
    "    ).rename(columns={0: 'dateTime'})\n",
    "df['dateTime'] = pd.to_datetime(df['dateTime']).dt.date\n",
    "df.head()"
   ]
  },
  {
   "cell_type": "markdown",
   "metadata": {},
   "source": [
    "I renamed these keys to avoid merging them as duplicate column names later."
   ]
  },
  {
   "cell_type": "code",
   "execution_count": 13,
   "metadata": {},
   "outputs": [],
   "source": [
    "weights['weight'] = weights.pop('value')\n",
    "fats['fat_pct'] = fats.pop('value')\n",
    "bmis['bmi'] = bmis.pop('value')\n",
    "sleeps['dateTime'] = sleeps.pop('dateOfSleep')"
   ]
  },
  {
   "cell_type": "markdown",
   "metadata": {},
   "source": [
    "Now merge up your data!"
   ]
  },
  {
   "cell_type": "code",
   "execution_count": 14,
   "metadata": {},
   "outputs": [],
   "source": [
    "for d in [activities, weights, fats, bmis, hearts]:\n",
    "    d = pd.DataFrame(d)\n",
    "    d['dateTime'] = pd.to_datetime(d['dateTime']).dt.date\n",
    "    df = df.merge(pd.DataFrame(d), how='left', on='dateTime')"
   ]
  },
  {
   "cell_type": "markdown",
   "metadata": {},
   "source": [
    "The sleep data has multiple values for each date. A simple aggregation should be enough to de-duplicate with enough fidelity for the rough analyses we'll be running to start."
   ]
  },
  {
   "cell_type": "code",
   "execution_count": 15,
   "metadata": {},
   "outputs": [
    {
     "data": {
      "text/html": [
       "<div>\n",
       "<style scoped>\n",
       "    .dataframe tbody tr th:only-of-type {\n",
       "        vertical-align: middle;\n",
       "    }\n",
       "\n",
       "    .dataframe tbody tr th {\n",
       "        vertical-align: top;\n",
       "    }\n",
       "\n",
       "    .dataframe thead th {\n",
       "        text-align: right;\n",
       "    }\n",
       "</style>\n",
       "<table border=\"1\" class=\"dataframe\">\n",
       "  <thead>\n",
       "    <tr style=\"text-align: right;\">\n",
       "      <th></th>\n",
       "      <th>efficiency</th>\n",
       "      <th>minutesAsleep</th>\n",
       "      <th>startTime</th>\n",
       "      <th>endTime</th>\n",
       "      <th>awakeningsCount</th>\n",
       "      <th>dateTime</th>\n",
       "    </tr>\n",
       "  </thead>\n",
       "  <tbody>\n",
       "    <tr>\n",
       "      <th>2</th>\n",
       "      <td>96</td>\n",
       "      <td>71</td>\n",
       "      <td>2019-10-17T22:02:00.000</td>\n",
       "      <td>2019-10-17T23:16:30.000</td>\n",
       "      <td>1</td>\n",
       "      <td>2019-10-17</td>\n",
       "    </tr>\n",
       "    <tr>\n",
       "      <th>3</th>\n",
       "      <td>96</td>\n",
       "      <td>358</td>\n",
       "      <td>2019-10-17T00:21:00.000</td>\n",
       "      <td>2019-10-17T06:34:00.000</td>\n",
       "      <td>10</td>\n",
       "      <td>2019-10-17</td>\n",
       "    </tr>\n",
       "    <tr>\n",
       "      <th>44</th>\n",
       "      <td>87</td>\n",
       "      <td>109</td>\n",
       "      <td>2019-09-06T10:37:30.000</td>\n",
       "      <td>2019-09-06T12:43:30.000</td>\n",
       "      <td>9</td>\n",
       "      <td>2019-09-06</td>\n",
       "    </tr>\n",
       "    <tr>\n",
       "      <th>45</th>\n",
       "      <td>88</td>\n",
       "      <td>278</td>\n",
       "      <td>2019-09-06T01:41:00.000</td>\n",
       "      <td>2019-09-06T06:57:00.000</td>\n",
       "      <td>13</td>\n",
       "      <td>2019-09-06</td>\n",
       "    </tr>\n",
       "    <tr>\n",
       "      <th>85</th>\n",
       "      <td>81</td>\n",
       "      <td>60</td>\n",
       "      <td>2019-07-14T08:21:00.000</td>\n",
       "      <td>2019-07-14T09:35:30.000</td>\n",
       "      <td>3</td>\n",
       "      <td>2019-07-14</td>\n",
       "    </tr>\n",
       "    <tr>\n",
       "      <th>86</th>\n",
       "      <td>91</td>\n",
       "      <td>329</td>\n",
       "      <td>2019-07-14T01:02:30.000</td>\n",
       "      <td>2019-07-14T07:12:00.000</td>\n",
       "      <td>9</td>\n",
       "      <td>2019-07-14</td>\n",
       "    </tr>\n",
       "    <tr>\n",
       "      <th>87</th>\n",
       "      <td>93</td>\n",
       "      <td>56</td>\n",
       "      <td>2019-07-13T19:25:30.000</td>\n",
       "      <td>2019-07-13T20:36:30.000</td>\n",
       "      <td>6</td>\n",
       "      <td>2019-07-13</td>\n",
       "    </tr>\n",
       "    <tr>\n",
       "      <th>88</th>\n",
       "      <td>90</td>\n",
       "      <td>572</td>\n",
       "      <td>2019-07-12T22:28:00.000</td>\n",
       "      <td>2019-07-13T09:04:30.000</td>\n",
       "      <td>27</td>\n",
       "      <td>2019-07-13</td>\n",
       "    </tr>\n",
       "  </tbody>\n",
       "</table>\n",
       "</div>"
      ],
      "text/plain": [
       "    efficiency  minutesAsleep                startTime  \\\n",
       "2           96             71  2019-10-17T22:02:00.000   \n",
       "3           96            358  2019-10-17T00:21:00.000   \n",
       "44          87            109  2019-09-06T10:37:30.000   \n",
       "45          88            278  2019-09-06T01:41:00.000   \n",
       "85          81             60  2019-07-14T08:21:00.000   \n",
       "86          91            329  2019-07-14T01:02:30.000   \n",
       "87          93             56  2019-07-13T19:25:30.000   \n",
       "88          90            572  2019-07-12T22:28:00.000   \n",
       "\n",
       "                    endTime  awakeningsCount    dateTime  \n",
       "2   2019-10-17T23:16:30.000                1  2019-10-17  \n",
       "3   2019-10-17T06:34:00.000               10  2019-10-17  \n",
       "44  2019-09-06T12:43:30.000                9  2019-09-06  \n",
       "45  2019-09-06T06:57:00.000               13  2019-09-06  \n",
       "85  2019-07-14T09:35:30.000                3  2019-07-14  \n",
       "86  2019-07-14T07:12:00.000                9  2019-07-14  \n",
       "87  2019-07-13T20:36:30.000                6  2019-07-13  \n",
       "88  2019-07-13T09:04:30.000               27  2019-07-13  "
      ]
     },
     "execution_count": 15,
     "metadata": {},
     "output_type": "execute_result"
    }
   ],
   "source": [
    "sleeps = pd.DataFrame(sleeps)\n",
    "sleeps[sleeps.duplicated(subset='dateTime', keep=False)]"
   ]
  },
  {
   "cell_type": "markdown",
   "metadata": {},
   "source": [
    "Looks like we got 'em."
   ]
  },
  {
   "cell_type": "code",
   "execution_count": 16,
   "metadata": {},
   "outputs": [
    {
     "data": {
      "text/html": [
       "<div>\n",
       "<style scoped>\n",
       "    .dataframe tbody tr th:only-of-type {\n",
       "        vertical-align: middle;\n",
       "    }\n",
       "\n",
       "    .dataframe tbody tr th {\n",
       "        vertical-align: top;\n",
       "    }\n",
       "\n",
       "    .dataframe thead th {\n",
       "        text-align: right;\n",
       "    }\n",
       "</style>\n",
       "<table border=\"1\" class=\"dataframe\">\n",
       "  <thead>\n",
       "    <tr style=\"text-align: right;\">\n",
       "      <th></th>\n",
       "      <th>dateTime</th>\n",
       "      <th>startTime</th>\n",
       "      <th>endTime</th>\n",
       "      <th>minutesAsleep</th>\n",
       "      <th>efficiency</th>\n",
       "    </tr>\n",
       "  </thead>\n",
       "  <tbody>\n",
       "  </tbody>\n",
       "</table>\n",
       "</div>"
      ],
      "text/plain": [
       "Empty DataFrame\n",
       "Columns: [dateTime, startTime, endTime, minutesAsleep, efficiency]\n",
       "Index: []"
      ]
     },
     "execution_count": 16,
     "metadata": {},
     "output_type": "execute_result"
    }
   ],
   "source": [
    "# sleeps['dateTime'] = sleeps.pop('dateOfSleep')\n",
    "sleeps = sleeps \\\n",
    "    .groupby('dateTime', as_index=False) \\\n",
    "    .agg({'startTime': min, 'endTime': max, 'minutesAsleep': sum, 'efficiency': 'mean'})\n",
    "sleeps[sleeps.duplicated(subset='dateTime', keep=False)]"
   ]
  },
  {
   "cell_type": "code",
   "execution_count": 17,
   "metadata": {},
   "outputs": [],
   "source": [
    "sleeps['dateTime'] = pd.to_datetime(sleeps['dateTime']).dt.date\n",
    "df = df.merge(pd.DataFrame(sleeps), how='left', on='dateTime')"
   ]
  },
  {
   "cell_type": "markdown",
   "metadata": {},
   "source": [
    "Clean up column names. I must confess that I'm not crazy about camelcase."
   ]
  },
  {
   "cell_type": "code",
   "execution_count": 18,
   "metadata": {},
   "outputs": [],
   "source": [
    "df = df.rename(columns={\n",
    "    'dateTime': 'date',\n",
    "    'efficiency': 'sleep_efficiency',\n",
    "    'minutesAsleep': 'sleep_minutes', \n",
    "    'startTime': 'sleep_start_at',\n",
    "    'endTime': 'sleep_end_at',\n",
    "    'awakeningsCount': 'wake_count',\n",
    "    'Fat Burn': 'fat_burn_minutes',\n",
    "    'Cardio': 'cardio_minutes',\n",
    "    'Peak': 'peak_minutes',\n",
    "    'restingHeartRate': 'resting_heart_rate'\n",
    "})"
   ]
  },
  {
   "cell_type": "markdown",
   "metadata": {},
   "source": [
    "And finally export as a CSV!"
   ]
  },
  {
   "cell_type": "code",
   "execution_count": 19,
   "metadata": {},
   "outputs": [],
   "source": [
    "df.to_csv('../../data/{}_to_{}_fitbit_data.csv'.format(base_date.date(), today.date()), index=False)"
   ]
  },
  {
   "cell_type": "markdown",
   "metadata": {},
   "source": [
    "- Facts => day / wk / mo tables\n",
    "- Add in goals and metrics\n",
    "- Daily pull\n",
    "- Set up ETL to pull down historical data\n",
    "- Store data remotely"
   ]
  }
 ],
 "metadata": {
  "kernelspec": {
   "display_name": "py3",
   "language": "python",
   "name": "py3"
  },
  "language_info": {
   "codemirror_mode": {
    "name": "ipython",
    "version": 3
   },
   "file_extension": ".py",
   "mimetype": "text/x-python",
   "name": "python",
   "nbconvert_exporter": "python",
   "pygments_lexer": "ipython3",
   "version": "3.6.3"
  }
 },
 "nbformat": 4,
 "nbformat_minor": 2
}
